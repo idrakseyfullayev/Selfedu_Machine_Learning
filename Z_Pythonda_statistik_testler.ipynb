{
 "cells": [
  {
   "cell_type": "markdown",
   "id": "0f98852c",
   "metadata": {},
   "source": [
    "## 1. Məlumatın Hazırlanması"
   ]
  },
  {
   "cell_type": "code",
   "execution_count": 1,
   "id": "d088ac33",
   "metadata": {
    "scrolled": true
   },
   "outputs": [
    {
     "data": {
      "text/html": [
       "<div>\n",
       "<style scoped>\n",
       "    .dataframe tbody tr th:only-of-type {\n",
       "        vertical-align: middle;\n",
       "    }\n",
       "\n",
       "    .dataframe tbody tr th {\n",
       "        vertical-align: top;\n",
       "    }\n",
       "\n",
       "    .dataframe thead th {\n",
       "        text-align: right;\n",
       "    }\n",
       "</style>\n",
       "<table border=\"1\" class=\"dataframe\">\n",
       "  <thead>\n",
       "    <tr style=\"text-align: right;\">\n",
       "      <th></th>\n",
       "      <th>PassengerId</th>\n",
       "      <th>Survived</th>\n",
       "      <th>Pclass</th>\n",
       "      <th>Name</th>\n",
       "      <th>Sex</th>\n",
       "      <th>Age</th>\n",
       "      <th>SibSp</th>\n",
       "      <th>Parch</th>\n",
       "      <th>Ticket</th>\n",
       "      <th>Fare</th>\n",
       "      <th>Cabin</th>\n",
       "      <th>Embarked</th>\n",
       "    </tr>\n",
       "  </thead>\n",
       "  <tbody>\n",
       "    <tr>\n",
       "      <th>0</th>\n",
       "      <td>1</td>\n",
       "      <td>0</td>\n",
       "      <td>3</td>\n",
       "      <td>Braund, Mr. Owen Harris</td>\n",
       "      <td>male</td>\n",
       "      <td>22.0</td>\n",
       "      <td>1</td>\n",
       "      <td>0</td>\n",
       "      <td>A/5 21171</td>\n",
       "      <td>7.2500</td>\n",
       "      <td>NaN</td>\n",
       "      <td>S</td>\n",
       "    </tr>\n",
       "    <tr>\n",
       "      <th>1</th>\n",
       "      <td>2</td>\n",
       "      <td>1</td>\n",
       "      <td>1</td>\n",
       "      <td>Cumings, Mrs. John Bradley (Florence Briggs Th...</td>\n",
       "      <td>female</td>\n",
       "      <td>38.0</td>\n",
       "      <td>1</td>\n",
       "      <td>0</td>\n",
       "      <td>PC 17599</td>\n",
       "      <td>71.2833</td>\n",
       "      <td>C85</td>\n",
       "      <td>C</td>\n",
       "    </tr>\n",
       "    <tr>\n",
       "      <th>2</th>\n",
       "      <td>3</td>\n",
       "      <td>1</td>\n",
       "      <td>3</td>\n",
       "      <td>Heikkinen, Miss. Laina</td>\n",
       "      <td>female</td>\n",
       "      <td>26.0</td>\n",
       "      <td>0</td>\n",
       "      <td>0</td>\n",
       "      <td>STON/O2. 3101282</td>\n",
       "      <td>7.9250</td>\n",
       "      <td>NaN</td>\n",
       "      <td>S</td>\n",
       "    </tr>\n",
       "    <tr>\n",
       "      <th>3</th>\n",
       "      <td>4</td>\n",
       "      <td>1</td>\n",
       "      <td>1</td>\n",
       "      <td>Futrelle, Mrs. Jacques Heath (Lily May Peel)</td>\n",
       "      <td>female</td>\n",
       "      <td>35.0</td>\n",
       "      <td>1</td>\n",
       "      <td>0</td>\n",
       "      <td>113803</td>\n",
       "      <td>53.1000</td>\n",
       "      <td>C123</td>\n",
       "      <td>S</td>\n",
       "    </tr>\n",
       "    <tr>\n",
       "      <th>4</th>\n",
       "      <td>5</td>\n",
       "      <td>0</td>\n",
       "      <td>3</td>\n",
       "      <td>Allen, Mr. William Henry</td>\n",
       "      <td>male</td>\n",
       "      <td>35.0</td>\n",
       "      <td>0</td>\n",
       "      <td>0</td>\n",
       "      <td>373450</td>\n",
       "      <td>8.0500</td>\n",
       "      <td>NaN</td>\n",
       "      <td>S</td>\n",
       "    </tr>\n",
       "  </tbody>\n",
       "</table>\n",
       "</div>"
      ],
      "text/plain": [
       "   PassengerId  Survived  Pclass  \\\n",
       "0            1         0       3   \n",
       "1            2         1       1   \n",
       "2            3         1       3   \n",
       "3            4         1       1   \n",
       "4            5         0       3   \n",
       "\n",
       "                                                Name     Sex   Age  SibSp  \\\n",
       "0                            Braund, Mr. Owen Harris    male  22.0      1   \n",
       "1  Cumings, Mrs. John Bradley (Florence Briggs Th...  female  38.0      1   \n",
       "2                             Heikkinen, Miss. Laina  female  26.0      0   \n",
       "3       Futrelle, Mrs. Jacques Heath (Lily May Peel)  female  35.0      1   \n",
       "4                           Allen, Mr. William Henry    male  35.0      0   \n",
       "\n",
       "   Parch            Ticket     Fare Cabin Embarked  \n",
       "0      0         A/5 21171   7.2500   NaN        S  \n",
       "1      0          PC 17599  71.2833   C85        C  \n",
       "2      0  STON/O2. 3101282   7.9250   NaN        S  \n",
       "3      0            113803  53.1000  C123        S  \n",
       "4      0            373450   8.0500   NaN        S  "
      ]
     },
     "execution_count": 1,
     "metadata": {},
     "output_type": "execute_result"
    }
   ],
   "source": [
    "import pandas as pd\n",
    "import seaborn as sns\n",
    "from scipy import stats\n",
    "\n",
    "# Titanic datasetini yükləyək\n",
    "url = 'https://raw.githubusercontent.com/datasciencedojo/datasets/master/titanic.csv'\n",
    "df = pd.read_csv(url)\n",
    "\n",
    "# İlk beş sətri yoxlayaq\n",
    "df.head()"
   ]
  },
  {
   "cell_type": "code",
   "execution_count": null,
   "id": "d27c6d38",
   "metadata": {},
   "outputs": [],
   "source": []
  },
  {
   "cell_type": "markdown",
   "id": "7c6e6bc0",
   "metadata": {},
   "source": [
    "## 2.1 Z-Test  (İki qrupun ortalamalarının müqayisəsi)\n",
    "- Sual: 1-ci və 3-cü sinif sərnişinlərinin yaş ortalamalarında fərq varmı?"
   ]
  },
  {
   "cell_type": "code",
   "execution_count": 2,
   "id": "798da533",
   "metadata": {},
   "outputs": [
    {
     "name": "stdout",
     "output_type": "stream",
     "text": [
      "Z-Test nəticəsi: Z-statistic = 10.8491, P-value = 0.0000\n"
     ]
    }
   ],
   "source": [
    "from statsmodels.stats.weightstats import ztest\n",
    "\n",
    "first_class = df[df['Pclass'] == 1]['Age'].dropna()\n",
    "third_class = df[df['Pclass'] == 3]['Age'].dropna()\n",
    "\n",
    "z_stat, p_value = ztest(first_class, third_class)\n",
    "\n",
    "print(f\"Z-Test nəticəsi: Z-statistic = {z_stat:.4f}, P-value = {p_value:.4f}\")"
   ]
  },
  {
   "cell_type": "markdown",
   "id": "d8bda55e",
   "metadata": {},
   "source": [
    "- Z-statistic = 10.8491 \n",
    "- P-value = 0.0000\n",
    "\n",
    "**Z-test nəticəsi göstərir ki, 1-ci və 3-cü sinif sərnişinləri arasında yaş ortalamaları arasında statistik olaraq əhəmiyyətli bir fərq mövcuddur, çünki Z-statistic çox yüksəkdir və P-value sıfıra yaxın olduğu üçün null hypothesis rədd edilir.**"
   ]
  },
  {
   "cell_type": "code",
   "execution_count": null,
   "id": "39ba3578",
   "metadata": {},
   "outputs": [],
   "source": []
  },
  {
   "cell_type": "markdown",
   "id": "be9eb5e4",
   "metadata": {},
   "source": [
    "## 2.2 T-Test Indpendent (İki qrupun ortalamalarının müqayisəsi)\n",
    "- Sual: 1-ci və 3-cü sinif sərnişinlərinin yaş ortalamalarında fərq varmı?"
   ]
  },
  {
   "cell_type": "code",
   "execution_count": 2,
   "id": "7b55ed88",
   "metadata": {},
   "outputs": [
    {
     "name": "stdout",
     "output_type": "stream",
     "text": [
      "T-Test nəticəsi: T-statistic = 10.84912260120103333350, P-value = 0.00000000000000000000000061344700078306254101521918\n"
     ]
    }
   ],
   "source": [
    "# 1-ci və 3-cü sinif sərnişinlərinin yaş ortalamalarının fərqi\n",
    "first_class = df[df['Pclass'] == 1]['Age'].dropna()\n",
    "third_class = df[df['Pclass'] == 3]['Age'].dropna()\n",
    "\n",
    "t_stat, p_value = stats.ttest_ind(first_class, third_class)\n",
    "\n",
    "print(f\"T-Test nəticəsi: T-statistic = {t_stat:.20f}, P-value = {p_value:.50f}\")"
   ]
  },
  {
   "cell_type": "markdown",
   "id": "fc50ff1f",
   "metadata": {},
   "source": [
    "- T-statistic = 10.84912260120103333350\n",
    "- P-value = 0.0000000000000000000000006134470007830625410152191\n",
    "#### Bu nəticə göstərir ki, 1-ci və 3-cü sinif sərnişinlərinin yaş ortalamaları arasında statistik olaraq əhəmiyyətli fərq var (P-value çox kiçikdir)."
   ]
  },
  {
   "cell_type": "code",
   "execution_count": null,
   "id": "075d213d",
   "metadata": {},
   "outputs": [],
   "source": []
  },
  {
   "cell_type": "markdown",
   "id": "24bac2ad",
   "metadata": {},
   "source": [
    "## 3. T-Test Paired (bir qrupun ortalamalarının müqayisəsi)"
   ]
  },
  {
   "cell_type": "markdown",
   "id": "921c72a5",
   "metadata": {},
   "source": [
    "Paired t-test (cüt t-testi) adətən eyni qrup üzvlərinin əvvəl və sonra nəticələrini müqayisə etmək üçün istifadə olunur. Bu test iki qrup arasında fərqi yoxlamır, əksinə eyni fərdlərin iki müxtəlif şəraitdə (məsələn, eyni sərnişinlərin əvvəl və sonra yaşları kimi) nəticələrini müqayisə edir.\n",
    "\n",
    "Sizin Titanic datasetinizdə 1-ci və 3-cü sinif sərnişinləri müstəqil qruplardır, buna görə də paired t-test məntiqi olaraq uyğun deyil, çünki eyni sərnişinlərin müxtəlif şəraitdə yaş ortalamalarını müqayisə etmirik. Ancaq əgər siz bunu sadəcə məşq üçün etmək istəyirsinizsə, paired t-test tətbiqini aşağıdakı kimi yaza bilərsiniz:"
   ]
  },
  {
   "cell_type": "code",
   "execution_count": 3,
   "id": "4647bd4d",
   "metadata": {},
   "outputs": [
    {
     "name": "stdout",
     "output_type": "stream",
     "text": [
      "Paired T-Test nəticəsi: T-statistic = 8.9317784626, P-value = 0.00000000000000041691835791810592185209583275006671\n"
     ]
    }
   ],
   "source": [
    "# Əgər iki qrupda eyni sayda müşahidə yoxdursa, kəsilmə edə bilərik\n",
    "min_length = min(len(first_class), len(third_class))\n",
    "\n",
    "# Paired t-test üçün ilk və üçüncü siniflərdə bərabər uzunluqlu datanı götürürük\n",
    "first_class_sample = first_class[:min_length]\n",
    "third_class_sample = third_class[:min_length]\n",
    "\n",
    "# Paired t-test\n",
    "t_stat, p_value = stats.ttest_rel(first_class_sample, third_class_sample)\n",
    "print(f\"Paired T-Test nəticəsi: T-statistic = {t_stat:.10f}, P-value = {p_value:.50f}\")"
   ]
  },
  {
   "cell_type": "code",
   "execution_count": null,
   "id": "7c3884f1",
   "metadata": {},
   "outputs": [],
   "source": []
  },
  {
   "cell_type": "markdown",
   "id": "e4531a15",
   "metadata": {},
   "source": [
    "##  4.  Chi-Square Test (Kateqorial dəyişənlər arasında əlaqə)\n",
    "- Sual: Cinsiyyət və sağ qalma arasında əlaqə varmı?"
   ]
  },
  {
   "cell_type": "code",
   "execution_count": 4,
   "id": "cdd3dfca",
   "metadata": {},
   "outputs": [
    {
     "name": "stdout",
     "output_type": "stream",
     "text": [
      "Chi-Square Test nəticəsi: Chi2-statistic = 260.71702, P-value = 0.000000000000000000000000000000000000000000000000000000000120\n"
     ]
    }
   ],
   "source": [
    "# Cinsiyyət və sağ qalma arasındakı əlaqə\n",
    "contingency_table = pd.crosstab(df['Sex'], df['Survived'])\n",
    "chi2_stat, p_val, dof, expected = stats.chi2_contingency(contingency_table)\n",
    "\n",
    "print(f\"Chi-Square Test nəticəsi: Chi2-statistic = {chi2_stat:.5f}, P-value = {p_val:.60f}\")\n"
   ]
  },
  {
   "cell_type": "markdown",
   "id": "ee694d88",
   "metadata": {},
   "source": [
    "- Chi2-statistic = 260.71702\n",
    "- P-value = 0.000000000000000000000000000000000000000000000000000000000120\n",
    "#### Bu nəticə göstərir ki, cinsiyyət və sağ qalma arasında güclü əlaqə var (P-value çox kiçikdir)."
   ]
  },
  {
   "cell_type": "code",
   "execution_count": null,
   "id": "e50d5890",
   "metadata": {},
   "outputs": [],
   "source": []
  },
  {
   "cell_type": "markdown",
   "id": "3f17a2c3",
   "metadata": {},
   "source": [
    "## 5. ANOVA Testi (Bir neçə qrupun ortalamalarının müqayisəsi)\n",
    "- Sual: 1-ci, 2-ci və 3-cü sinif sərnişinlərinin yaş ortalamalarında fərq varmı?"
   ]
  },
  {
   "cell_type": "code",
   "execution_count": 5,
   "id": "2a1f7408",
   "metadata": {},
   "outputs": [
    {
     "name": "stdout",
     "output_type": "stream",
     "text": [
      "ANOVA nəticəsi: F-statistic = 57.4434843407, P-value = 0.00000000000000000000000748798417195990362379570657\n"
     ]
    }
   ],
   "source": [
    "# ANOVA testi: Siniflər üzrə yaş ortalamaları\n",
    "f_stat, p_value = stats.f_oneway(\n",
    "    df[df['Pclass'] == 1]['Age'].dropna(),\n",
    "    df[df['Pclass'] == 2]['Age'].dropna(),\n",
    "    df[df['Pclass'] == 3]['Age'].dropna()\n",
    ")\n",
    "print(f\"ANOVA nəticəsi: F-statistic = {f_stat:.10f}, P-value = {p_value:.50f}\")"
   ]
  },
  {
   "cell_type": "markdown",
   "id": "7d2b84bc",
   "metadata": {},
   "source": [
    "- F-statistic = 57.4434843407\n",
    "- P-value = 0.00000000000000000000000748798417195990362379570657\n",
    "#### Bu nəticə göstərir ki, sərnişin siniflərinə görə yaş ortalamaları arasında statistik olaraq əhəmiyyətli fərq var."
   ]
  },
  {
   "cell_type": "code",
   "execution_count": null,
   "id": "ea3bf8c3",
   "metadata": {},
   "outputs": [],
   "source": []
  },
  {
   "cell_type": "markdown",
   "id": "23bded48",
   "metadata": {},
   "source": [
    "## 6. Pearson Korrelyasiya Testi (İki dəyişən arasındakı əlaqə)\n",
    "- Sual: Yaş və biletlərin qiyməti arasında əlaqə varmı?"
   ]
  },
  {
   "cell_type": "code",
   "execution_count": 6,
   "id": "c417c0f8",
   "metadata": {},
   "outputs": [
    {
     "name": "stdout",
     "output_type": "stream",
     "text": [
      "Pearson Korrelyasiya Testi nəticəsi: Correlation = 0.0960666917690389, P-value = 0.010216277504447006\n"
     ]
    }
   ],
   "source": [
    "# Yaş və biletlərin qiyməti arasındakı korrelyasiya\n",
    "df_clean = df[['Age', 'Fare']].dropna()  # Hər iki sütundan NaN dəyərləri çıxarırıq\n",
    "\n",
    "corr, p_value = stats.pearsonr(df_clean['Age'], df_clean['Fare'])\n",
    "\n",
    "print(f\"Pearson Korrelyasiya Testi nəticəsi: Correlation = {corr}, P-value = {p_value}\")"
   ]
  },
  {
   "cell_type": "markdown",
   "id": "b4c03cef",
   "metadata": {},
   "source": [
    "- Correlation = 0.09606669176903893\n",
    "- P-value = 0.014676376252593772\n",
    "#### Korrelyasiya əmsalı (0.096) çox zəif əlaqə olduğunu göstərir, lakin P-value 0.05-dən kiçik olduğu üçün bu zəif əlaqə statistik olaraq əhəmiyyətlidir.\n"
   ]
  },
  {
   "cell_type": "code",
   "execution_count": null,
   "id": "957c91b6",
   "metadata": {},
   "outputs": [],
   "source": []
  },
  {
   "cell_type": "markdown",
   "id": "6d518d87",
   "metadata": {},
   "source": [
    "## 7. Spearman Korrelyasiya Testi"
   ]
  },
  {
   "cell_type": "code",
   "execution_count": 7,
   "id": "bb5f249a",
   "metadata": {},
   "outputs": [
    {
     "name": "stdout",
     "output_type": "stream",
     "text": [
      "Spearman Correlation Coefficient: 0.1351\n",
      "P-value: 0.0003\n"
     ]
    }
   ],
   "source": [
    "# NaN dəyərləri olan sətrləri çıxarın\n",
    "filtered_df = df[['Age', 'Fare']].dropna()\n",
    "\n",
    "# Yaş və Bilet qiyməti məlumatlarını alın\n",
    "age = filtered_df['Age']\n",
    "fare = filtered_df['Fare']\n",
    "\n",
    "# Spearman korrelyasiya testi\n",
    "spearman_corr, p_value = stats.spearmanr(age, fare)\n",
    "\n",
    "# Nəticələri çap edin\n",
    "print(f\"Spearman Correlation Coefficient: {spearman_corr:.4f}\")\n",
    "print(f\"P-value: {p_value:.4f}\")"
   ]
  },
  {
   "cell_type": "markdown",
   "id": "b217e32c",
   "metadata": {},
   "source": [
    "### Spearman Korrelyasiya Testinin Nəticələri\n",
    "- **Spearman Korrelasiya Koefisiyenti**: **0.1351**\n",
    "- **P-value**: **0.0003**\n",
    "\n",
    "### Nəticələrin İzahı\n",
    "1. **Spearman Korrelasiya Koefisiyenti**: 0.1351 dəyəri, yaş və bilet qiyməti arasında müsbət, lakin zəif bir əlaqənin olduğunu göstərir. Bu, yaş artdıqca bilet qiymətinin da artma ehtimalının olduğunu göstərir.\n",
    "\n",
    "2. **P-value**: 0.0003 dəyəri, 0.05-dən aşağı olduğu üçün, yaş və bilet qiyməti arasında statistik cəhətdən əhəmiyyətli bir əlaqənin olduğunu göstərir. Yəni, bu iki dəyişən arasında monotonic bir əlaqə vardır.\n",
    "\n",
    "### Nəticə\n",
    "Bu test, Titanic sərnişinlərinin yaş və bilet qiyməti arasında monotonic bir əlaqənin olduğunu ortaya qoyur. Hesablanmış koefisiyent, əlaqənin zəif olduğunu, amma statistik cəhətdən əhəmiyyətli olduğunu göstərir."
   ]
  },
  {
   "cell_type": "code",
   "execution_count": null,
   "id": "2bfca0b2",
   "metadata": {},
   "outputs": [],
   "source": []
  },
  {
   "cell_type": "markdown",
   "id": "dc0b431d",
   "metadata": {},
   "source": [
    "## 8. One Sample T-test"
   ]
  },
  {
   "cell_type": "code",
   "execution_count": 8,
   "id": "d51f21ce",
   "metadata": {},
   "outputs": [
    {
     "name": "stdout",
     "output_type": "stream",
     "text": [
      "T-statistic: -0.5535\n",
      "P-value: 0.5801\n"
     ]
    }
   ],
   "source": [
    "from scipy import stats\n",
    "\n",
    "# Yaş məlumatlarını alın\n",
    "ages = df['Age'].dropna()  # NaN dəyərləri çıxar\n",
    "\n",
    "# Hipotez olunan ortalama\n",
    "hypothesized_mean = 30\n",
    "\n",
    "# One Sample T-Test\n",
    "t_statistic, p_value = stats.ttest_1samp(ages, hypothesized_mean)\n",
    "\n",
    "# Nəticələri çap edin\n",
    "print(f\"T-statistic: {t_statistic:.4f}\")\n",
    "print(f\"P-value: {p_value:.4f}\")"
   ]
  },
  {
   "cell_type": "markdown",
   "id": "2417e231",
   "metadata": {},
   "source": [
    "### One Sample T-Test Nəticələri\n",
    "- **T-statistic**: -0.5535\n",
    "- **P-value**: 0.5801\n",
    "\n",
    "### Nəticələrin İzahı\n",
    "1. **T-statistic**: Bu dəyər, nümunənin ortalamasının hipotez olunan ortalamadan nə qədər uzaq olduğunu göstərir. Negativ bir dəyər, nümunənin ortalamasının hipotez olunan ortalamadan (30 yaş) daha kiçik olduğunu göstərir.\n",
    "\n",
    "2. **P-value**: Bu dəyər, hipotezi qəbul etmək və ya rədd etmək üçün istifadə olunur. Ümumiyyətlə, p-value 0.05-dən aşağı olduqda, sıfır hipotezini (burada yaş ortalamasının 30-dan fərqli olduğu) rədd edirik. Burada p-value 0.5801 olduğu üçün, sıfır hipotezini rədd edə bilmirik. Yəni, sərnişinlərin yaş ortalamasının 30 yaşdan fərqli olduğuna dair statistik cəhətdən əhəmiyyətli bir dəlil yoxdur.\n",
    "\n",
    "### Nəticə\n",
    "Bu test, Titanic sərnişinlərinin yaş ortalamasının 30 yaşdan fərqli olub olmadığını araşdırmaq üçün istifadə edilmişdir. Lakin, nəticələr göstərir ki, yaş ortalaması 30 yaşdan əhəmiyyətli dərəcədə fərqlənmir."
   ]
  },
  {
   "cell_type": "code",
   "execution_count": null,
   "id": "717cf5f0",
   "metadata": {},
   "outputs": [],
   "source": []
  }
 ],
 "metadata": {
  "kernelspec": {
   "display_name": "Python 3 (ipykernel)",
   "language": "python",
   "name": "python3"
  },
  "language_info": {
   "codemirror_mode": {
    "name": "ipython",
    "version": 3
   },
   "file_extension": ".py",
   "mimetype": "text/x-python",
   "name": "python",
   "nbconvert_exporter": "python",
   "pygments_lexer": "ipython3",
   "version": "3.11.5"
  }
 },
 "nbformat": 4,
 "nbformat_minor": 5
}
